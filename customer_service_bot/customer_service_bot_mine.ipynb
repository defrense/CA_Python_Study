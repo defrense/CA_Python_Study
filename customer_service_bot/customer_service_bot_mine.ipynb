{
 "cells": [
  {
   "cell_type": "code",
   "execution_count": null,
   "metadata": {},
   "outputs": [],
   "source": [
    " def cs_service_bot():\n",
    "    # Replace `pass` with your code\n",
    "    print (\"Hello! Welcome to the DNS Cable Company's Service Portal. Are you a new or existing customer?\"+'\\n'+\"[1] New Customer\"+'\\n'+\"[2] Existing Customer\")\n",
    "    response = int(input (\"Please enter the number corresponding to your choice: \"))\n",
    "    if response == 1:\n",
    "        new_customer()\n",
    "    elif response == 2:\n",
    "        existing_customer()\n",
    "    else:\n",
    "        print (\"Sorry, we didn't understand your selection.\")\n",
    "        cs_service_bot()"
   ]
  },
  {
   "cell_type": "code",
   "execution_count": null,
   "metadata": {},
   "outputs": [],
   "source": [
    "def existing_customer():\n",
    "    print (\"[1] Television Support \\n[2] Internet Support \\n[3] Speak to a support representative. \")\n",
    "    response = int (input(\"What kind of support do you need?\"))\n",
    "    if response == 1:\n",
    "        television_support()\n",
    "    elif response == 2:\n",
    "        internet_support()\n",
    "    elif response == 3:\n",
    "        live_rep(\"support\")\n",
    "    else:\n",
    "        print(\"Sorry, we didn't understand your selection.\")\n",
    "        existing_customer()"
   ]
  },
  {
   "cell_type": "code",
   "execution_count": null,
   "metadata": {},
   "outputs": [],
   "source": [
    "def new_customer():\n",
    "    print (\"[1] Sign up for service. \\n[2] Schedule a home visit. \\n[3] Speak to a sales representative. \")\n",
    "    response = int (input(\"We're excited to have you join the DNS family, how can we help you?\"))\n",
    "    if response == 1:\n",
    "        sign_up()\n",
    "    elif response == 2:\n",
    "        home_visit()\n",
    "    elif response == 3:\n",
    "        live_rep(\"sales\")\n",
    "    else:\n",
    "        print(\"Sorry, we didn't understand your selection.\")\n",
    "        new_customer()"
   ]
  },
  {
   "cell_type": "code",
   "execution_count": null,
   "metadata": {},
   "outputs": [],
   "source": [
    "def television_support():\n",
    "    print (\"[1] I can't access certain channels.\\n[2] My picture is blurry.\\n[3] I keep losing service.\\n[4] Other issues.\")\n",
    "    response = int (input(\"What is the nature of your problem?\"))\n",
    "    if response == 1:\n",
    "        print (\"Please check the channel lists at DefinitelyNotSinister.com. If the channel you cannot access is there, please contact a live representative.\")\n",
    "        did_that_help()\n",
    "    elif response == 2:\n",
    "        print (\"Try adjusting the antenna above your television set.\")\n",
    "        did_that_help()\n",
    "    elif response == 3:\n",
    "        print (\"Is it raining outside? If so, wait until it is not raining and then try again.\")\n",
    "        did_that_help()\n",
    "    elif response == 4:\n",
    "        live_rep(\"support\")\n",
    "    else:\n",
    "        print(\"Sorry, we didn't understand your selection.\")\n",
    "        television_support()"
   ]
  },
  {
   "cell_type": "code",
   "execution_count": null,
   "metadata": {},
   "outputs": [],
   "source": [
    "def internet_support():\n",
    "    print (\"[1] I can't connect to the internet.\\n[2] My connection is very slow.\\n[3] I can't access certain sites.\\n[4] Other issues.\")\n",
    "    response = int (input(\"What is the nature of your problem?\"))\n",
    "    if response == 1:\n",
    "        print (\"Unplug your router, then plug it back in, then give it a good whack, like the Fonz.\")\n",
    "        did_that_help()\n",
    "    elif response == 2:\n",
    "        print (\"Make sure that all cell phones and other peoples computers are not connected to the internet, so that you can have all the bandwidth.\")\n",
    "        did_that_help()\n",
    "    elif response == 3:\n",
    "        print (\"Move to a different region or install a VPN. Some areas block certain sites.\")\n",
    "        did_that_help()\n",
    "    elif response == 4:\n",
    "        live_rep(\"support\")\n",
    "    else:\n",
    "        print(\"Sorry, we didn't understand your selection.\")\n",
    "        television_support()"
   ]
  },
  {
   "cell_type": "code",
   "execution_count": null,
   "metadata": {},
   "outputs": [],
   "source": [
    "def did_that_help():\n",
    "    response = str (input(\"Was the problem solved? (Yes or No): \")).upper()\n",
    "    if response == \"YES\":\n",
    "        print (\"Thanks for contacting us!\")\n",
    "    elif response == \"NO\":\n",
    "        print (\"[1] Talk to a live representative\\n[2] Schedule a home visit\")\n",
    "        choice = int(input(\"Please choose your further support option: \"))\n",
    "        if choice == 1:\n",
    "            live_rep()\n",
    "        elif choice == 2:\n",
    "            home_visit (\"support\")\n",
    "        else:\n",
    "            print(\"Sorry, we didn't understand your selection.\")\n",
    "            did_that_help()\n",
    "    else:\n",
    "        print(\"Sorry, we didn't understand your selection.\")\n",
    "            did_that_help()"
   ]
  },
  {
   "cell_type": "code",
   "execution_count": null,
   "metadata": {},
   "outputs": [],
   "source": [
    "def sign_up():\n",
    "    print (\"Great choice, friend! We're excited to have you join the DNS family! Please select the package you are interested in signing up for.\")\n",
    "    print (\"[1] Bundle Deal (Internet + Cable)\\n[2] Internet\\n[3] Cable\")\n",
    "    response = int(input (\": \"))\n",
    "    if response == 1:\n",
    "        print (\"You've selected the Bundle Package! Please schedule a home visit and our technician will come and set up your new service.\")\n",
    "        home_visit(\"new install\")\n",
    "    elif response == 2:\n",
    "        print (\"You've selected the Internet Only Package! Please schedule a home visit and our technician will come and set up your new service.\")\n",
    "        home_visit(\"new install\")\n",
    "    elif response == 3:\n",
    "        print (\"You've selected the Cable Only Package! Please schedule a home visit and our technician will come and set up your new service.\")\n",
    "        home_visit(\"new install\")\n",
    "    else:\n",
    "        print(\"Sorry, we didn't understand your selection.\")\n",
    "        sign_up()"
   ]
  },
  {
   "cell_type": "code",
   "execution_count": null,
   "metadata": {},
   "outputs": [],
   "source": [
    "def home_visit(purpose=\"none\"):\n",
    "    if purpose == \"none\":\n",
    "        print (\"[1] New service installation.\\n[2] Exisitng service repair.\\n[3] Location scouting for unserviced region.\")\n",
    "        response = int(input (\"Please choose which service is required: \"))\n",
    "        if response == 1:\n",
    "            home_visit(\"new install\")\n",
    "        elif response == 2:\n",
    "            home_visit(\"support\")\n",
    "        elif response == 3:\n",
    "            home_visit (\"scout\")\n",
    "        else:\n",
    "            print(\"Sorry, we didn't understand your selection.\")\n",
    "            home_visit()\n",
    "    else:\n",
    "        visit_date = str(input(\"lease enter a date(mm/dd format) below when you are available for a technician to come to your home and {}\".format(purpose)))\n",
    "        print (\"Wonderful! A technical will come visit you on {}. Please be available between the hours of 1:00 am and 11:00 pm.\".format(visit_date))\n",
    "        return visit_date  "
   ]
  },
  {
   "cell_type": "code",
   "execution_count": null,
   "metadata": {},
   "outputs": [],
   "source": [
    "def live_rep(help_type):\n",
    "    if help_type == \"sales\":\n",
    "        print (\"Please hold while we connect you with a live sales representative. The wait time will be between two minutes and six hours. We thank you for your patience.\")\n",
    "    elif help_type == \"support\":\n",
    "        print (\"Please hold while we connect you with a live support representative. The wait time will be between two minutes and six hours. We thank you for your patience.\")"
   ]
  },
  {
   "cell_type": "code",
   "execution_count": null,
   "metadata": {
    "scrolled": true
   },
   "outputs": [],
   "source": [
    "cs_service_bot()"
   ]
  },
  {
   "cell_type": "code",
   "execution_count": null,
   "metadata": {},
   "outputs": [],
   "source": []
  }
 ],
 "metadata": {
  "kernelspec": {
   "display_name": "Python 3",
   "language": "python",
   "name": "python3"
  },
  "language_info": {
   "codemirror_mode": {
    "name": "ipython",
    "version": 3
   },
   "file_extension": ".py",
   "mimetype": "text/x-python",
   "name": "python",
   "nbconvert_exporter": "python",
   "pygments_lexer": "ipython3",
   "version": "3.6.5"
  }
 },
 "nbformat": 4,
 "nbformat_minor": 2
}
