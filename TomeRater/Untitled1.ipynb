{
 "cells": [
  {
   "cell_type": "code",
   "execution_count": 22,
   "metadata": {},
   "outputs": [],
   "source": [
    "def valid_email(email):\n",
    "    root_domain = ['.com', '.edu', '.org']\n",
    "    if ('@' in email) and (email[-4:] in root_domain):\n",
    "        return True\n",
    "    print ('Invalid Email address, a valid address must have \\'@\\' and end with either \\'.com\\', \\'.edu\\', \\'.org\\'')\n",
    "    return False"
   ]
  },
  {
   "cell_type": "code",
   "execution_count": 23,
   "metadata": {},
   "outputs": [
    {
     "name": "stdout",
     "output_type": "stream",
     "text": [
      "Invalid Email address, a valid address must have '@' and end with either '.com', '.edu', '.org'\n"
     ]
    },
    {
     "data": {
      "text/plain": [
       "False"
      ]
     },
     "execution_count": 23,
     "metadata": {},
     "output_type": "execute_result"
    }
   ],
   "source": [
    "valid_email('jack.dfs.dw')"
   ]
  },
  {
   "cell_type": "code",
   "execution_count": 33,
   "metadata": {},
   "outputs": [
    {
     "ename": "SyntaxError",
     "evalue": "'return' outside function (<ipython-input-33-8019a89bf27d>, line 4)",
     "output_type": "error",
     "traceback": [
      "\u001b[1;36m  File \u001b[1;32m\"<ipython-input-33-8019a89bf27d>\"\u001b[1;36m, line \u001b[1;32m4\u001b[0m\n\u001b[1;33m    return (sort_x[n])\u001b[0m\n\u001b[1;37m    ^\u001b[0m\n\u001b[1;31mSyntaxError\u001b[0m\u001b[1;31m:\u001b[0m 'return' outside function\n"
     ]
    }
   ],
   "source": [
    "x = {'a': 2, 'b': 4, 'c': 3, 'd': 1, 'e': 0}\n",
    "sort_x = sorted(x, key = x.get, reverse = True)\n",
    "for n in range(2):\n",
    "    return (sort_x[n])"
   ]
  },
  {
   "cell_type": "code",
   "execution_count": null,
   "metadata": {},
   "outputs": [],
   "source": []
  }
 ],
 "metadata": {
  "kernelspec": {
   "display_name": "Python 3",
   "language": "python",
   "name": "python3"
  },
  "language_info": {
   "codemirror_mode": {
    "name": "ipython",
    "version": 3
   },
   "file_extension": ".py",
   "mimetype": "text/x-python",
   "name": "python",
   "nbconvert_exporter": "python",
   "pygments_lexer": "ipython3",
   "version": "3.6.5"
  }
 },
 "nbformat": 4,
 "nbformat_minor": 2
}
