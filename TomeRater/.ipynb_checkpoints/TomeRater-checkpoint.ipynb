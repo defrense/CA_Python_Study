{
 "cells": [
  {
   "cell_type": "code",
   "execution_count": null,
   "metadata": {},
   "outputs": [],
   "source": [
    "class User(object):\n"
   ]
  },
  {
   "cell_type": "code",
   "execution_count": null,
   "metadata": {},
   "outputs": [],
   "source": [
    "    def __init__(self, name, email):\n",
    "        self.name = str(name)\n",
    "        self.email = str(email)\n",
    "        self.books = {}"
   ]
  },
  {
   "cell_type": "code",
   "execution_count": null,
   "metadata": {},
   "outputs": [],
   "source": [
    "    def get_email(self):\n",
    "        return self.email"
   ]
  },
  {
   "cell_type": "code",
   "execution_count": null,
   "metadata": {},
   "outputs": [],
   "source": [
    "    def change_email(self, address):\n",
    "        self.email = address\n",
    "        print('Email has been updated to {email}'.format(email = self.email))"
   ]
  },
  {
   "cell_type": "code",
   "execution_count": null,
   "metadata": {},
   "outputs": [],
   "source": [
    "    def __repr__(self):\n",
    "        return 'User {username}, email: {email}, books read: {qty}'.format(username = self.name, email = self.email, qty = len(self.book))"
   ]
  },
  {
   "cell_type": "code",
   "execution_count": null,
   "metadata": {},
   "outputs": [],
   "source": [
    "    def __eq__(self, other_user):\n",
    "        if self.name == other_user.name and self.email == other_user.name:\n",
    "            return True\n",
    "        else:\n",
    "            return False"
   ]
  },
  {
   "cell_type": "code",
   "execution_count": null,
   "metadata": {},
   "outputs": [],
   "source": [
    "    def read_books(self, book, rating = None):\n",
    "        self.books[book] = rating"
   ]
  },
  {
   "cell_type": "code",
   "execution_count": null,
   "metadata": {},
   "outputs": [],
   "source": [
    "    def get_average_rating(self):\n",
    "        return sum(self.books.values())/len(self.books)"
   ]
  },
  {
   "cell_type": "code",
   "execution_count": null,
   "metadata": {},
   "outputs": [],
   "source": [
    "class Book:"
   ]
  },
  {
   "cell_type": "code",
   "execution_count": null,
   "metadata": {},
   "outputs": [],
   "source": [
    "\n",
    "    def __init__(self, title, isbn):\n",
    "        self.title = str(title)\n",
    "        self.isbn = int(isbn)\n",
    "        self.ratings = []"
   ]
  },
  {
   "cell_type": "code",
   "execution_count": null,
   "metadata": {},
   "outputs": [],
   "source": [
    "    def __eq__(self, other_book):\n",
    "        if self.title == other_book.title and self.isbn == other_book.isbn:\n",
    "            return True\n",
    "        else:\n",
    "            return False"
   ]
  },
  {
   "cell_type": "code",
   "execution_count": null,
   "metadata": {},
   "outputs": [],
   "source": [
    "    def __hash__(self):\n",
    "        return hash((self.title, self.isbn))"
   ]
  },
  {
   "cell_type": "code",
   "execution_count": null,
   "metadata": {},
   "outputs": [],
   "source": [
    "    def get_title(self):\n",
    "        return self.title"
   ]
  },
  {
   "cell_type": "code",
   "execution_count": null,
   "metadata": {},
   "outputs": [],
   "source": [
    "    def get_isbn(self):\n",
    "        return self.isbn"
   ]
  },
  {
   "cell_type": "code",
   "execution_count": null,
   "metadata": {},
   "outputs": [],
   "source": [
    "    def set_isbn(self, new_isbn):\n",
    "        self.isbn = new_isbn\n",
    "        print('ISBN has been updated to {isbn}'.format(isbn = self.isbn))"
   ]
  },
  {
   "cell_type": "code",
   "execution_count": null,
   "metadata": {},
   "outputs": [],
   "source": [
    "\n",
    "    def add_rating(self, rating):\n",
    "        if self.valid_rating(rating):\n",
    "            self.ratings.append(rating)\n",
    "        else:\n",
    "            print(\"Invalid Rating\")"
   ]
  },
  {
   "cell_type": "code",
   "execution_count": null,
   "metadata": {},
   "outputs": [],
   "source": [
    "    def get_average_rating(self):\n",
    "        return sum(self.ratings)/len(self.ratings)"
   ]
  },
  {
   "cell_type": "code",
   "execution_count": null,
   "metadata": {},
   "outputs": [],
   "source": [
    "    def valid_rating(self, rating):\n",
    "        print(rating)\n",
    "        if rating != None:\n",
    "            if rating >= 0 and rating <= 4:\n",
    "                return True\n",
    "        else:\n",
    "            return False"
   ]
  },
  {
   "cell_type": "code",
   "execution_count": null,
   "metadata": {},
   "outputs": [],
   "source": [
    "class Fiction(Book):\n",
    "    def __init__(self, title, author, isbn):\n",
    "        super().__init__(title, isbn)\n",
    "        self.author = author"
   ]
  },
  {
   "cell_type": "code",
   "execution_count": null,
   "metadata": {},
   "outputs": [],
   "source": [
    "    def get_author(self):\n",
    "        return self.author"
   ]
  },
  {
   "cell_type": "code",
   "execution_count": null,
   "metadata": {},
   "outputs": [],
   "source": [
    "    def __repr__(self):\n",
    "        return '{title} by {author}'.format(title = self.title, author = self.author)"
   ]
  },
  {
   "cell_type": "code",
   "execution_count": null,
   "metadata": {},
   "outputs": [],
   "source": [
    "class Non_Fiction(Book):\n",
    "    def __init__(self, title, subject, level, isbn):\n",
    "        super().__init__(title, isbn)\n",
    "        self.subject = subject\n",
    "        self.level = level"
   ]
  },
  {
   "cell_type": "code",
   "execution_count": null,
   "metadata": {},
   "outputs": [],
   "source": [
    "    def get_subject(self):\n",
    "        return self.subject"
   ]
  },
  {
   "cell_type": "code",
   "execution_count": null,
   "metadata": {},
   "outputs": [],
   "source": [
    "    def get_level(self):\n",
    "        return self.level"
   ]
  },
  {
   "cell_type": "code",
   "execution_count": null,
   "metadata": {},
   "outputs": [],
   "source": [
    "    def __repr__(self):\n",
    "        return '{title}, a {level} manual on {subject}'.format(title = self.title, level = self.level, subject = self.subject)"
   ]
  },
  {
   "cell_type": "code",
   "execution_count": null,
   "metadata": {},
   "outputs": [],
   "source": [
    "class TomeRater:"
   ]
  },
  {
   "cell_type": "code",
   "execution_count": null,
   "metadata": {},
   "outputs": [],
   "source": [
    "\n",
    "    def __init__(self):\n",
    "        self.users = {} #key:User's Email value: User object\n",
    "        self.books = {} #key:Book object  value: qty of users read it"
   ]
  },
  {
   "cell_type": "code",
   "execution_count": null,
   "metadata": {},
   "outputs": [],
   "source": [
    "    def create_book(self, title, isbn):\n",
    "        return Book(title, isbn)"
   ]
  },
  {
   "cell_type": "code",
   "execution_count": null,
   "metadata": {},
   "outputs": [],
   "source": [
    "    def create_novel(self, title, author, isbn):\n",
    "        return Fiction(title, author, isbn)"
   ]
  },
  {
   "cell_type": "code",
   "execution_count": null,
   "metadata": {},
   "outputs": [],
   "source": [
    "    def create_non_fiction(self, title, subject, level, isbn):\n",
    "        return Non_Fiction(title, subject, level, isbn)"
   ]
  },
  {
   "cell_type": "code",
   "execution_count": null,
   "metadata": {},
   "outputs": [],
   "source": [
    "    def add_book_to_user(self, book, email, rating = None):\n",
    "        if self.user_exist(email):\n",
    "            self.users[email].read_books(book, rating)\n",
    "            book.add_rating(rating)\n",
    "            if self.book_exist(book):\n",
    "                self.books[book] += 1\n",
    "            else:\n",
    "                self.books[book] = 1\n",
    "        else:\n",
    "            print ('No user with email {email}!'.format(email = email))"
   ]
  },
  {
   "cell_type": "code",
   "execution_count": null,
   "metadata": {},
   "outputs": [],
   "source": [
    "    def add_user(self, name, email, user_books = None):\n",
    "        self.users[email] = User(name, email)\n",
    "        if user_books != None:\n",
    "            for book in user_books:\n",
    "                self.add_book_to_user(book, email)"
   ]
  },
  {
   "cell_type": "code",
   "execution_count": null,
   "metadata": {},
   "outputs": [],
   "source": [
    "    def print_catalog(self):\n",
    "        for book in self.books:\n",
    "            print(book)"
   ]
  },
  {
   "cell_type": "code",
   "execution_count": null,
   "metadata": {},
   "outputs": [],
   "source": [
    "    def print_users(self):\n",
    "        for user in self.users:\n",
    "            print(self.users[user])"
   ]
  },
  {
   "cell_type": "code",
   "execution_count": null,
   "metadata": {},
   "outputs": [],
   "source": [
    "    def most_read_book(self):\n",
    "        for book in self.books:\n",
    "            if self.books[book] == max(self.books.values()):\n",
    "                return book"
   ]
  },
  {
   "cell_type": "code",
   "execution_count": null,
   "metadata": {},
   "outputs": [],
   "source": [
    "    def highest_rated_book(self):\n",
    "        highest_rating = 0.0\n",
    "        result_book = None\n",
    "        for book in self.books:\n",
    "            if book.get_average_rating() > highest_rating:\n",
    "                highest_rating = book.get_average_rating()\n",
    "                result_book = book\n",
    "        return result_book"
   ]
  },
  {
   "cell_type": "code",
   "execution_count": null,
   "metadata": {},
   "outputs": [],
   "source": [
    "    def most_positive_user(self):\n",
    "        highest_rating = 0.0\n",
    "        result_user = None\n",
    "        for key in self.users:\n",
    "            print (self.users[key].get_average_rating())\n",
    "            if self.users[key].get_average_rating() > highest_rating:\n",
    "                highest_rating = self.users[key].get_average_rating\n",
    "                result_user = self.users[key]\n",
    "        return result_user"
   ]
  },
  {
   "cell_type": "code",
   "execution_count": null,
   "metadata": {},
   "outputs": [],
   "source": [
    "    def user_exist(self, email):\n",
    "        if email in self.users:\n",
    "            return True\n",
    "        else:\n",
    "            return False"
   ]
  },
  {
   "cell_type": "code",
   "execution_count": null,
   "metadata": {},
   "outputs": [],
   "source": [
    "    def book_exist(self, book):\n",
    "        if book in self.books:\n",
    "            return True\n",
    "        else:\n",
    "            return False"
   ]
  }
 ],
 "metadata": {
  "kernelspec": {
   "display_name": "Python 3",
   "language": "python",
   "name": "python3"
  },
  "language_info": {
   "codemirror_mode": {
    "name": "ipython",
    "version": 3
   },
   "file_extension": ".py",
   "mimetype": "text/x-python",
   "name": "python",
   "nbconvert_exporter": "python",
   "pygments_lexer": "ipython3",
   "version": "3.6.5"
  }
 },
 "nbformat": 4,
 "nbformat_minor": 2
}
