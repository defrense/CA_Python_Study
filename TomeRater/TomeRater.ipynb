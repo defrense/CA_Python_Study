{
 "cells": [
  {
   "cell_type": "code",
   "execution_count": 70,
   "metadata": {},
   "outputs": [],
   "source": [
    "class User(object):    \n",
    "    def __init__(self, name, email):\n",
    "        self.name = str(name)\n",
    "        self.email = str(email)\n",
    "        self.books = {}"
   ]
  },
  {
   "cell_type": "code",
   "execution_count": 71,
   "metadata": {},
   "outputs": [],
   "source": [
    "    def get_email(self):\n",
    "        return self.email"
   ]
  },
  {
   "cell_type": "code",
   "execution_count": 72,
   "metadata": {},
   "outputs": [],
   "source": [
    "    def change_email(self, address):\n",
    "        self.email = address\n",
    "        print('Email has been updated to {email}'.format(email = self.email))"
   ]
  },
  {
   "cell_type": "code",
   "execution_count": 73,
   "metadata": {},
   "outputs": [],
   "source": [
    "    def __repr__(self):\n",
    "        return 'User {username}, email: {email}, books read: {qty}'.format(username = self.name, email = self.email, qty = len(self.book))"
   ]
  },
  {
   "cell_type": "code",
   "execution_count": 74,
   "metadata": {},
   "outputs": [],
   "source": [
    "    def __eq__(self, other_user):\n",
    "        if self.name == other_user.name and self.email == other_user.name:\n",
    "            return True\n",
    "        else:\n",
    "            return False"
   ]
  },
  {
   "cell_type": "code",
   "execution_count": 75,
   "metadata": {},
   "outputs": [],
   "source": [
    "    def read_books(self, book, rating = None):\n",
    "        self.books[book] = rating"
   ]
  },
  {
   "cell_type": "code",
   "execution_count": 76,
   "metadata": {},
   "outputs": [],
   "source": [
    "    def get_average_rating(self):\n",
    "        return sum(self.books.values())/len(self.books)"
   ]
  },
  {
   "cell_type": "code",
   "execution_count": 77,
   "metadata": {},
   "outputs": [],
   "source": [
    "class Book:\n",
    "    def __init__(self, title, isbn):\n",
    "        self.title = str(title)\n",
    "        self.isbn = int(isbn)\n",
    "        self.ratings = []"
   ]
  },
  {
   "cell_type": "code",
   "execution_count": 78,
   "metadata": {},
   "outputs": [],
   "source": [
    "    def __eq__(self, other_book):\n",
    "        if self.title == other_book.title and self.isbn == other_book.isbn:\n",
    "            return True\n",
    "        else:\n",
    "            return False"
   ]
  },
  {
   "cell_type": "code",
   "execution_count": 79,
   "metadata": {},
   "outputs": [],
   "source": [
    "    def __hash__(self):\n",
    "        return hash((self.title, self.isbn))"
   ]
  },
  {
   "cell_type": "code",
   "execution_count": 80,
   "metadata": {},
   "outputs": [],
   "source": [
    "    def get_title(self):\n",
    "        return self.title"
   ]
  },
  {
   "cell_type": "code",
   "execution_count": 81,
   "metadata": {},
   "outputs": [],
   "source": [
    "    def get_isbn(self):\n",
    "        return self.isbn"
   ]
  },
  {
   "cell_type": "code",
   "execution_count": 82,
   "metadata": {},
   "outputs": [],
   "source": [
    "    def set_isbn(self, new_isbn):\n",
    "        self.isbn = new_isbn\n",
    "        print('ISBN has been updated to {isbn}'.format(isbn = self.isbn))"
   ]
  },
  {
   "cell_type": "code",
   "execution_count": 83,
   "metadata": {},
   "outputs": [],
   "source": [
    "    def add_rating(self, rating):\n",
    "        if self.valid_rating(rating):\n",
    "            self.ratings.append(rating)\n",
    "        else:\n",
    "            print(\"Invalid Rating\")"
   ]
  },
  {
   "cell_type": "code",
   "execution_count": 84,
   "metadata": {},
   "outputs": [],
   "source": [
    "    def get_average_rating(self):\n",
    "        return sum(self.ratings)/len(self.ratings)"
   ]
  },
  {
   "cell_type": "code",
   "execution_count": 85,
   "metadata": {},
   "outputs": [],
   "source": [
    "    def valid_rating(self, rating):\n",
    "        print(rating)\n",
    "        if rating != None:\n",
    "            if rating >= 0 and rating <= 4:\n",
    "                return True\n",
    "        else:\n",
    "            return False"
   ]
  },
  {
   "cell_type": "code",
   "execution_count": 86,
   "metadata": {},
   "outputs": [],
   "source": [
    "class Fiction(Book):\n",
    "    def __init__(self, title, author, isbn):\n",
    "        super().__init__(title, isbn)\n",
    "        self.author = author"
   ]
  },
  {
   "cell_type": "code",
   "execution_count": 87,
   "metadata": {},
   "outputs": [],
   "source": [
    "    def get_author(self):\n",
    "        return self.author"
   ]
  },
  {
   "cell_type": "code",
   "execution_count": 88,
   "metadata": {},
   "outputs": [],
   "source": [
    "    def __repr__(self):\n",
    "        return '{title} by {author}'.format(title = self.title, author = self.author)"
   ]
  },
  {
   "cell_type": "code",
   "execution_count": 89,
   "metadata": {},
   "outputs": [],
   "source": [
    "class Non_Fiction(Book):\n",
    "    def __init__(self, title, subject, level, isbn):\n",
    "        super().__init__(title, isbn)\n",
    "        self.subject = subject\n",
    "        self.level = level"
   ]
  },
  {
   "cell_type": "code",
   "execution_count": 90,
   "metadata": {},
   "outputs": [],
   "source": [
    "    def get_subject(self):\n",
    "        return self.subject"
   ]
  },
  {
   "cell_type": "code",
   "execution_count": 91,
   "metadata": {},
   "outputs": [],
   "source": [
    "    def get_level(self):\n",
    "        return self.level"
   ]
  },
  {
   "cell_type": "code",
   "execution_count": 92,
   "metadata": {},
   "outputs": [],
   "source": [
    "    def __repr__(self):\n",
    "        return '{title}, a {level} manual on {subject}'.format(title = self.title, level = self.level, subject = self.subject)"
   ]
  },
  {
   "cell_type": "code",
   "execution_count": 93,
   "metadata": {},
   "outputs": [],
   "source": [
    "class TomeRater:\n",
    "    def __init__(self):\n",
    "        self.users = {} #key:User's Email value: User object\n",
    "        self.books = {} #key:Book object  value: qty of users read it"
   ]
  },
  {
   "cell_type": "code",
   "execution_count": 94,
   "metadata": {},
   "outputs": [],
   "source": [
    "    def create_book(self, title, isbn):\n",
    "        return Book(title, isbn)"
   ]
  },
  {
   "cell_type": "code",
   "execution_count": 95,
   "metadata": {},
   "outputs": [],
   "source": [
    "    def create_novel(self, title, author, isbn):\n",
    "        return Fiction(title, author, isbn)"
   ]
  },
  {
   "cell_type": "code",
   "execution_count": 96,
   "metadata": {},
   "outputs": [],
   "source": [
    "    def create_non_fiction(self, title, subject, level, isbn):\n",
    "        return Non_Fiction(title, subject, level, isbn)"
   ]
  },
  {
   "cell_type": "code",
   "execution_count": 97,
   "metadata": {},
   "outputs": [],
   "source": [
    "    def add_book_to_user(self, book, email, rating = None):\n",
    "        if self.user_exist(email):\n",
    "            self.users[email].read_books(book, rating)\n",
    "            book.add_rating(rating)\n",
    "            if self.book_exist(book):\n",
    "                self.books[book] += 1\n",
    "            else:\n",
    "                self.books[book] = 1\n",
    "        else:\n",
    "            print ('No user with email {email}!'.format(email = email))"
   ]
  },
  {
   "cell_type": "code",
   "execution_count": 98,
   "metadata": {},
   "outputs": [],
   "source": [
    "    def add_user(self, name, email, user_books = None):\n",
    "        self.users[email] = User(name, email)\n",
    "        if user_books != None:\n",
    "            for book in user_books:\n",
    "                self.add_book_to_user(book, email)"
   ]
  },
  {
   "cell_type": "code",
   "execution_count": 99,
   "metadata": {},
   "outputs": [],
   "source": [
    "    def print_catalog(self):\n",
    "        for book in self.books:\n",
    "            print(book)"
   ]
  },
  {
   "cell_type": "code",
   "execution_count": 100,
   "metadata": {},
   "outputs": [],
   "source": [
    "    def print_users(self):\n",
    "        for user in self.users:\n",
    "            print(self.users[user])"
   ]
  },
  {
   "cell_type": "code",
   "execution_count": 101,
   "metadata": {},
   "outputs": [],
   "source": [
    "    def most_read_book(self):\n",
    "        for book in self.books:\n",
    "            if self.books[book] == max(self.books.values()):\n",
    "                return book"
   ]
  },
  {
   "cell_type": "code",
   "execution_count": 102,
   "metadata": {},
   "outputs": [],
   "source": [
    "    def highest_rated_book(self):\n",
    "        highest_rating = 0.0\n",
    "        result_book = None\n",
    "        for book in self.books:\n",
    "            if book.get_average_rating() > highest_rating:\n",
    "                highest_rating = book.get_average_rating()\n",
    "                result_book = book\n",
    "        return result_book"
   ]
  },
  {
   "cell_type": "code",
   "execution_count": 103,
   "metadata": {},
   "outputs": [],
   "source": [
    "    def most_positive_user(self):\n",
    "        highest_rating = 0.0\n",
    "        result_user = None\n",
    "        for key in self.users:\n",
    "            print (self.users[key].get_average_rating())\n",
    "            if self.users[key].get_average_rating() > highest_rating:\n",
    "                highest_rating = self.users[key].get_average_rating\n",
    "                result_user = self.users[key]\n",
    "        return result_user"
   ]
  },
  {
   "cell_type": "code",
   "execution_count": 104,
   "metadata": {},
   "outputs": [],
   "source": [
    "    def user_exist(self, email):\n",
    "        if email in self.users:\n",
    "            return True\n",
    "        else:\n",
    "            return False"
   ]
  },
  {
   "cell_type": "code",
   "execution_count": 105,
   "metadata": {},
   "outputs": [],
   "source": [
    "    def book_exist(self, book):\n",
    "        if book in self.books:\n",
    "            return True\n",
    "        else:\n",
    "            return False"
   ]
  },
  {
   "cell_type": "code",
   "execution_count": 106,
   "metadata": {},
   "outputs": [
    {
     "ename": "AttributeError",
     "evalue": "'TomeRater' object has no attribute 'create_book'",
     "output_type": "error",
     "traceback": [
      "\u001b[1;31m---------------------------------------------------------------------------\u001b[0m",
      "\u001b[1;31mAttributeError\u001b[0m                            Traceback (most recent call last)",
      "\u001b[1;32m<ipython-input-106-140c9797b356>\u001b[0m in \u001b[0;36m<module>\u001b[1;34m()\u001b[0m\n\u001b[0;32m      2\u001b[0m \u001b[1;33m\u001b[0m\u001b[0m\n\u001b[0;32m      3\u001b[0m \u001b[1;31m#Create some books:\u001b[0m\u001b[1;33m\u001b[0m\u001b[1;33m\u001b[0m\u001b[0m\n\u001b[1;32m----> 4\u001b[1;33m \u001b[0mbook1\u001b[0m \u001b[1;33m=\u001b[0m \u001b[0mTome_Rater\u001b[0m\u001b[1;33m.\u001b[0m\u001b[0mcreate_book\u001b[0m\u001b[1;33m(\u001b[0m\u001b[1;34m\"Society of Mind\"\u001b[0m\u001b[1;33m,\u001b[0m \u001b[1;36m12345678\u001b[0m\u001b[1;33m)\u001b[0m\u001b[1;33m\u001b[0m\u001b[0m\n\u001b[0m\u001b[0;32m      5\u001b[0m \u001b[0mnovel1\u001b[0m \u001b[1;33m=\u001b[0m \u001b[0mTome_Rater\u001b[0m\u001b[1;33m.\u001b[0m\u001b[0mcreate_novel\u001b[0m\u001b[1;33m(\u001b[0m\u001b[1;34m\"Alice In Wonderland\"\u001b[0m\u001b[1;33m,\u001b[0m \u001b[1;34m\"Lewis Carroll\"\u001b[0m\u001b[1;33m,\u001b[0m \u001b[1;36m12345\u001b[0m\u001b[1;33m)\u001b[0m\u001b[1;33m\u001b[0m\u001b[0m\n\u001b[0;32m      6\u001b[0m \u001b[0mnovel1\u001b[0m\u001b[1;33m.\u001b[0m\u001b[0mset_isbn\u001b[0m\u001b[1;33m(\u001b[0m\u001b[1;36m9781536831139\u001b[0m\u001b[1;33m)\u001b[0m\u001b[1;33m\u001b[0m\u001b[0m\n",
      "\u001b[1;31mAttributeError\u001b[0m: 'TomeRater' object has no attribute 'create_book'"
     ]
    }
   ],
   "source": [
    "Tome_Rater = TomeRater()\n",
    "\n",
    "#Create some books:\n",
    "book1 = Tome_Rater.create_book(\"Society of Mind\", 12345678)\n",
    "novel1 = Tome_Rater.create_novel(\"Alice In Wonderland\", \"Lewis Carroll\", 12345)\n",
    "novel1.set_isbn(9781536831139)\n",
    "nonfiction1 = Tome_Rater.create_non_fiction(\"Automate the Boring Stuff\", \"Python\", \"beginner\", 1929452)\n",
    "nonfiction2 = Tome_Rater.create_non_fiction(\"Computing Machinery and Intelligence\", \"AI\", \"advanced\", 11111938)\n",
    "novel2 = Tome_Rater.create_novel(\"The Diamond Age\", \"Neal Stephenson\", 10101010)\n",
    "novel3 = Tome_Rater.create_novel(\"There Will Come Soft Rains\", \"Ray Bradbury\", 10001000)\n",
    "\n",
    "#Create users:\n",
    "Tome_Rater.add_user(\"Alan Turing\", \"alan@turing.com\")\n",
    "Tome_Rater.add_user(\"David Marr\", \"david@computation.org\")\n",
    "\n",
    "#Add a user with three books already read:\n",
    "#Tome_Rater.add_user(\"Marvin Minsky\", \"marvin@mit.edu\", user_books=[book1, novel1, nonfiction1])\n",
    "\n",
    "#Add books to a user one by one, with ratings:\n",
    "Tome_Rater.add_book_to_user(book1, \"alan@turing.com\", 1)\n",
    "Tome_Rater.add_book_to_user(novel1, \"alan@turing.com\", 3)\n",
    "Tome_Rater.add_book_to_user(nonfiction1, \"alan@turing.com\", 3)\n",
    "Tome_Rater.add_book_to_user(nonfiction2, \"alan@turing.com\", 4)\n",
    "Tome_Rater.add_book_to_user(novel3, \"alan@turing.com\", 1)\n",
    "\n",
    "Tome_Rater.add_book_to_user(novel2, \"marvin@mit.edu\", 2)\n",
    "Tome_Rater.add_book_to_user(novel3, \"marvin@mit.edu\", 2)\n",
    "Tome_Rater.add_book_to_user(novel3, \"david@computation.org\", 4)\n"
   ]
  },
  {
   "cell_type": "code",
   "execution_count": 107,
   "metadata": {},
   "outputs": [
    {
     "ename": "AttributeError",
     "evalue": "'TomeRater' object has no attribute 'most_positive_user'",
     "output_type": "error",
     "traceback": [
      "\u001b[1;31m---------------------------------------------------------------------------\u001b[0m",
      "\u001b[1;31mAttributeError\u001b[0m                            Traceback (most recent call last)",
      "\u001b[1;32m<ipython-input-107-4e621476e293>\u001b[0m in \u001b[0;36m<module>\u001b[1;34m()\u001b[0m\n\u001b[1;32m----> 1\u001b[1;33m \u001b[0mprint\u001b[0m\u001b[1;33m(\u001b[0m\u001b[0mTome_Rater\u001b[0m\u001b[1;33m.\u001b[0m\u001b[0mmost_positive_user\u001b[0m\u001b[1;33m(\u001b[0m\u001b[1;33m)\u001b[0m\u001b[1;33m)\u001b[0m\u001b[1;33m\u001b[0m\u001b[0m\n\u001b[0m",
      "\u001b[1;31mAttributeError\u001b[0m: 'TomeRater' object has no attribute 'most_positive_user'"
     ]
    }
   ],
   "source": [
    "print(Tome_Rater.most_positive_user())"
   ]
  },
  {
   "cell_type": "code",
   "execution_count": null,
   "metadata": {},
   "outputs": [],
   "source": []
  }
 ],
 "metadata": {
  "kernelspec": {
   "display_name": "Python 3",
   "language": "python",
   "name": "python3"
  },
  "language_info": {
   "codemirror_mode": {
    "name": "ipython",
    "version": 3
   },
   "file_extension": ".py",
   "mimetype": "text/x-python",
   "name": "python",
   "nbconvert_exporter": "python",
   "pygments_lexer": "ipython3",
   "version": "3.6.5"
  }
 },
 "nbformat": 4,
 "nbformat_minor": 2
}
