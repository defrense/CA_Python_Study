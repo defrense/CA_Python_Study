{
 "cells": [
  {
   "cell_type": "code",
   "execution_count": 34,
   "metadata": {},
   "outputs": [
    {
     "name": "stdout",
     "output_type": "stream",
     "text": [
      "ISBN has been updated to 9781536831139\n",
      "No user with email marvin@mit.edu!\n",
      "No user with email marvin@mit.edu!\n"
     ]
    }
   ],
   "source": [
    "from TomeRater import *\n",
    "\n",
    "Tome_Rater = TomeRater()\n",
    "\n",
    "#Create some books:\n",
    "book1 = Tome_Rater.create_book(\"Society of Mind\", 12345678)\n",
    "novel1 = Tome_Rater.create_novel(\"Alice In Wonderland\", \"Lewis Carroll\", 12345)\n",
    "novel1.set_isbn(9781536831139)\n",
    "nonfiction1 = Tome_Rater.create_non_fiction(\"Automate the Boring Stuff\", \"Python\", \"beginner\", 1929452)\n",
    "nonfiction2 = Tome_Rater.create_non_fiction(\"Computing Machinery and Intelligence\", \"AI\", \"advanced\", 11111938)\n",
    "novel2 = Tome_Rater.create_novel(\"The Diamond Age\", \"Neal Stephenson\", 10101010)\n",
    "novel3 = Tome_Rater.create_novel(\"There Will Come Soft Rains\", \"Ray Bradbury\", 10001000)\n",
    "\n",
    "#Create users:\n",
    "Tome_Rater.add_user(\"Alan Turing\", \"alan@turing.com\")\n",
    "Tome_Rater.add_user(\"David Marr\", \"david@computation.org\")\n",
    "\n",
    "#Add a user with three books already read:\n",
    "#Tome_Rater.add_user(\"Marvin Minsky\", \"marvin@mit.edu\", user_books=[book1, novel1, nonfiction1])\n",
    "\n",
    "#Add books to a user one by one, with ratings:\n",
    "Tome_Rater.add_book_to_user(book1, \"alan@turing.com\", 1)\n",
    "Tome_Rater.add_book_to_user(novel1, \"alan@turing.com\", 3)\n",
    "Tome_Rater.add_book_to_user(nonfiction1, \"alan@turing.com\", 3)\n",
    "Tome_Rater.add_book_to_user(nonfiction2, \"alan@turing.com\", 4)\n",
    "Tome_Rater.add_book_to_user(novel3, \"alan@turing.com\", 1)\n",
    "\n",
    "Tome_Rater.add_book_to_user(novel2, \"marvin@mit.edu\", 2)\n",
    "Tome_Rater.add_book_to_user(novel3, \"marvin@mit.edu\", 2)\n",
    "Tome_Rater.add_book_to_user(novel3, \"david@computation.org\", 4)\n",
    "\n",
    "\n"
   ]
  },
  {
   "cell_type": "code",
   "execution_count": 35,
   "metadata": {
    "scrolled": true
   },
   "outputs": [
    {
     "name": "stdout",
     "output_type": "stream",
     "text": [
      "2.4\n",
      "4.0\n"
     ]
    },
    {
     "ename": "TypeError",
     "evalue": "'>' not supported between instances of 'float' and 'method'",
     "output_type": "error",
     "traceback": [
      "\u001b[1;31m---------------------------------------------------------------------------\u001b[0m",
      "\u001b[1;31mTypeError\u001b[0m                                 Traceback (most recent call last)",
      "\u001b[1;32m<ipython-input-35-0aa3f59f002b>\u001b[0m in \u001b[0;36m<module>\u001b[1;34m()\u001b[0m\n\u001b[0;32m      4\u001b[0m \u001b[1;33m\u001b[0m\u001b[0m\n\u001b[0;32m      5\u001b[0m \u001b[1;31m#print(\"Most positive user:\")\u001b[0m\u001b[1;33m\u001b[0m\u001b[1;33m\u001b[0m\u001b[0m\n\u001b[1;32m----> 6\u001b[1;33m \u001b[0mprint\u001b[0m\u001b[1;33m(\u001b[0m\u001b[0mTome_Rater\u001b[0m\u001b[1;33m.\u001b[0m\u001b[0mmost_positive_user\u001b[0m\u001b[1;33m(\u001b[0m\u001b[1;33m)\u001b[0m\u001b[1;33m)\u001b[0m\u001b[1;33m\u001b[0m\u001b[0m\n\u001b[0m\u001b[0;32m      7\u001b[0m \u001b[1;31m#print(\"Highest rated book:\")\u001b[0m\u001b[1;33m\u001b[0m\u001b[1;33m\u001b[0m\u001b[0m\n\u001b[0;32m      8\u001b[0m \u001b[1;31m#print(Tome_Rater.highest_rated_book())\u001b[0m\u001b[1;33m\u001b[0m\u001b[1;33m\u001b[0m\u001b[0m\n",
      "\u001b[1;32m~\\OneDrive\\My Documents\\GitHub\\CA_Python_Study\\TomeRater\\TomeRater.py\u001b[0m in \u001b[0;36mmost_positive_user\u001b[1;34m(self)\u001b[0m\n\u001b[0;32m    150\u001b[0m         \u001b[1;32mfor\u001b[0m \u001b[0mkey\u001b[0m \u001b[1;32min\u001b[0m \u001b[0mself\u001b[0m\u001b[1;33m.\u001b[0m\u001b[0musers\u001b[0m\u001b[1;33m:\u001b[0m\u001b[1;33m\u001b[0m\u001b[0m\n\u001b[0;32m    151\u001b[0m             \u001b[0mprint\u001b[0m \u001b[1;33m(\u001b[0m\u001b[0mself\u001b[0m\u001b[1;33m.\u001b[0m\u001b[0musers\u001b[0m\u001b[1;33m[\u001b[0m\u001b[0mkey\u001b[0m\u001b[1;33m]\u001b[0m\u001b[1;33m.\u001b[0m\u001b[0mget_average_rating\u001b[0m\u001b[1;33m(\u001b[0m\u001b[1;33m)\u001b[0m\u001b[1;33m)\u001b[0m\u001b[1;33m\u001b[0m\u001b[0m\n\u001b[1;32m--> 152\u001b[1;33m             \u001b[1;32mif\u001b[0m \u001b[0mself\u001b[0m\u001b[1;33m.\u001b[0m\u001b[0musers\u001b[0m\u001b[1;33m[\u001b[0m\u001b[0mkey\u001b[0m\u001b[1;33m]\u001b[0m\u001b[1;33m.\u001b[0m\u001b[0mget_average_rating\u001b[0m\u001b[1;33m(\u001b[0m\u001b[1;33m)\u001b[0m \u001b[1;33m>\u001b[0m \u001b[0mhighest_rating\u001b[0m\u001b[1;33m:\u001b[0m\u001b[1;33m\u001b[0m\u001b[0m\n\u001b[0m\u001b[0;32m    153\u001b[0m                 \u001b[0mhighest_rating\u001b[0m \u001b[1;33m=\u001b[0m \u001b[0mself\u001b[0m\u001b[1;33m.\u001b[0m\u001b[0musers\u001b[0m\u001b[1;33m[\u001b[0m\u001b[0mkey\u001b[0m\u001b[1;33m]\u001b[0m\u001b[1;33m.\u001b[0m\u001b[0mget_average_rating\u001b[0m\u001b[1;33m\u001b[0m\u001b[0m\n\u001b[0;32m    154\u001b[0m                 \u001b[0mresult_user\u001b[0m \u001b[1;33m=\u001b[0m \u001b[0mself\u001b[0m\u001b[1;33m.\u001b[0m\u001b[0musers\u001b[0m\u001b[1;33m[\u001b[0m\u001b[0mkey\u001b[0m\u001b[1;33m]\u001b[0m\u001b[1;33m\u001b[0m\u001b[0m\n",
      "\u001b[1;31mTypeError\u001b[0m: '>' not supported between instances of 'float' and 'method'"
     ]
    }
   ],
   "source": [
    "#Uncomment these to test your functions:\n",
    "# Tome_Rater.print_catalog()\n",
    "#　Tome_Rater.print_users()\n",
    "\n",
    "#print(\"Most positive user:\")\n",
    "print(Tome_Rater.most_positive_user())\n",
    "#print(\"Highest rated book:\")\n",
    "#print(Tome_Rater.highest_rated_book())\n",
    "# print(\"Most read book:\")\n",
    "# print(Tome_Rater.get_most_read_book())"
   ]
  },
  {
   "cell_type": "code",
   "execution_count": null,
   "metadata": {},
   "outputs": [],
   "source": []
  },
  {
   "cell_type": "code",
   "execution_count": null,
   "metadata": {},
   "outputs": [],
   "source": []
  }
 ],
 "metadata": {
  "kernelspec": {
   "display_name": "Python 3",
   "language": "python",
   "name": "python3"
  },
  "language_info": {
   "codemirror_mode": {
    "name": "ipython",
    "version": 3
   },
   "file_extension": ".py",
   "mimetype": "text/x-python",
   "name": "python",
   "nbconvert_exporter": "python",
   "pygments_lexer": "ipython3",
   "version": "3.6.5"
  }
 },
 "nbformat": 4,
 "nbformat_minor": 2
}
