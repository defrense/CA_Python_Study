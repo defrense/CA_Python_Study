{
 "cells": [
  {
   "cell_type": "code",
   "execution_count": 28,
   "metadata": {},
   "outputs": [],
   "source": [
    "alphabet='abcdefghijklmnopqrstuvwxyz'"
   ]
  },
  {
   "cell_type": "code",
   "execution_count": 30,
   "metadata": {},
   "outputs": [
    {
     "ename": "IndentationError",
     "evalue": "unexpected indent (<ipython-input-30-43e81e30e2b0>, line 2)",
     "output_type": "error",
     "traceback": [
      "\u001b[1;36m  File \u001b[1;32m\"<ipython-input-30-43e81e30e2b0>\"\u001b[1;36m, line \u001b[1;32m2\u001b[0m\n\u001b[1;33m    alphabet='abcdefghijklmnopqrstuvwxyz'\u001b[0m\n\u001b[1;37m    ^\u001b[0m\n\u001b[1;31mIndentationError\u001b[0m\u001b[1;31m:\u001b[0m unexpected indent\n"
     ]
    }
   ],
   "source": [
    "#def code_letter('b', 'dog'):\n",
    "    alphabet='abcdefghijklmnopqrstuvwxyz'\n",
    "    letter = 'b'\n",
    "    keyword = 'dog'\n",
    "    letter_lo = alphabet.find(letter)\n",
    "    key_lo = alphabet.find(keyword[letter_lo % len(keyword)])\n",
    "    offset = (key_lo + letter_lo) % len(alphabet)\n",
    "    cipher = (letter_lo + offset) % len(alphabet)\n",
    "    #return alphabet[cipher]\n",
    "    print (alphabet[cipher])"
   ]
  },
  {
   "cell_type": "code",
   "execution_count": null,
   "metadata": {},
   "outputs": [],
   "source": []
  },
  {
   "cell_type": "code",
   "execution_count": 23,
   "metadata": {},
   "outputs": [],
   "source": [
    "def coded_message(message, keyword):\n",
    "    message_list = message.split()\n",
    "    messageN = []\n",
    "    for word in message_list:\n",
    "        wordN = ''\n",
    "        for letter in word:\n",
    "            if alphabet.find(letter) >= 0:\n",
    "                letterN = code_letter(letter, keyword)\n",
    "                wordN = wordN + letterN\n",
    "            else:\n",
    "                wordN = wordN + letter\n",
    "        messageN.append(wordN)\n",
    "    message_result = ' '.join(messageN)\n",
    "    return message_result"
   ]
  },
  {
   "cell_type": "code",
   "execution_count": 24,
   "metadata": {},
   "outputs": [],
   "source": [
    "def encypto_message():\n",
    "    original_message = input('Please enter your message here: ')\n",
    "    keyword = input('Please give me the keyword: ')\n",
    "    encrypted_message = coded_message(original_message, keyword)\n",
    "    print('The encypted message is as below: ')\n",
    "    print(encrypted_message)"
   ]
  },
  {
   "cell_type": "code",
   "execution_count": 25,
   "metadata": {},
   "outputs": [
    {
     "name": "stdout",
     "output_type": "stream",
     "text": [
      "Welcome using the Vigenere Cipher coder/decoder !\n",
      "Please choose one of below functions: \n",
      "A: Decode a message.\n",
      "B: Code a message\n",
      ":B\n",
      "Please enter your message here: barryisthespy\n",
      "Please give me the keyword: dog\n",
      "The encypted message is as below: \n",
      "qdoozwnacwnhz\n"
     ]
    }
   ],
   "source": [
    "print('Welcome using the Vigenere Cipher coder/decoder !')\n",
    "Choice = ''\n",
    "choice = input ('Please choose one of below functions: \\nA: Decode a message.\\nB: Code a message\\n:').upper()\n",
    "\n",
    "if choice == 'A':\n",
    "    decypher_message()\n",
    "elif choice == 'B':\n",
    "    encypto_message()\n",
    "else:\n",
    "    print ('Invalid choice!')"
   ]
  },
  {
   "cell_type": "code",
   "execution_count": 43,
   "metadata": {},
   "outputs": [
    {
     "name": "stdout",
     "output_type": "stream",
     "text": [
      "iwk wkbo qjlk dw leiynm bhoc? dqck gwhs! iyc irk lmswmoxq gcizo bxm khzmhb gd khgtuqbifpy!\n"
     ]
    }
   ],
   "source": [
    "alphabet='abcdefghijklmnopqrstuvwxyz'\n",
    "message = 'barryisthespy'\n",
    "keyword = 'dog'\n",
    "message_code =''\n",
    "\n",
    "for i in range(len(message)):\n",
    "    \n",
    "    letter_lo = alphabet.find(message[i])\n",
    "    if letter_lo >= 0:\n",
    "        letter_keyword_lo = alphabet.find(keyword[i % len(keyword)])\n",
    "        offset = (letter_lo + letter_keyword_lo) % 26\n",
    "        code_letter = alphabet[offset]\n",
    "        message_code = message_code + code_letter\n",
    "    else:\n",
    "        message_code = message_code + message[i]\n",
    "    \n",
    "print(message_code)\n",
    "    "
   ]
  },
  {
   "cell_type": "code",
   "execution_count": 44,
   "metadata": {},
   "outputs": [
    {
     "name": "stdout",
     "output_type": "stream",
     "text": [
      "you were able to decode this? nice work! you are becoming quite the expert at crytography!\n"
     ]
    }
   ],
   "source": [
    "alphabet='abcdefghijklmnopqrstuvwxyz'\n",
    "message = 'dfc jhjj ifyh yf hrfgiv xulk? vmph bfzo! qtl eeh gvkszlfl yyvww kpi hpuvzx dl tzcgrywrxll!'\n",
    "keyword = 'friends'\n",
    "message_decode =''\n",
    "\n",
    "for i in range(len(message)):\n",
    "    \n",
    "    letter_lo = alphabet.find(message[i])\n",
    "    if letter_lo >= 0:\n",
    "        letter_keyword_lo = alphabet.find(keyword[i % len(keyword)])\n",
    "        offset = (letter_lo - letter_keyword_lo) % 26\n",
    "        decode_letter = alphabet[offset]\n",
    "        message_decode = message_decode + decode_letter\n",
    "    else:\n",
    "        message_decode = message_decode + message[i]\n",
    "    \n",
    "print(message_decode)"
   ]
  },
  {
   "cell_type": "code",
   "execution_count": null,
   "metadata": {},
   "outputs": [],
   "source": []
  }
 ],
 "metadata": {
  "kernelspec": {
   "display_name": "Python 3",
   "language": "python",
   "name": "python3"
  },
  "language_info": {
   "codemirror_mode": {
    "name": "ipython",
    "version": 3
   },
   "file_extension": ".py",
   "mimetype": "text/x-python",
   "name": "python",
   "nbconvert_exporter": "python",
   "pygments_lexer": "ipython3",
   "version": "3.6.5"
  }
 },
 "nbformat": 4,
 "nbformat_minor": 2
}
